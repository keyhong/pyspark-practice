{
 "cells": [
  {
   "cell_type": "markdown",
   "id": "c440da08",
   "metadata": {},
   "source": [
    "## DataFrame\n",
    "- Schema(컬럼과 타입)와 선언적 언어 사용\n",
    "- 이름이 지정된 열로 구성된 Dataset\n",
    "- 개념적으로는 관계형 데이터베이스의 테이블과 동등\n",
    "- 구조화된 파일(JSON, CSV, Parquet), Hive 테이블, 외부 데이터베이스 또는 기존 RDD와 같은 소스에서 생성 가능\n",
    "- 구조화된 데이터에 대해 매우 효율적 (CPU와 메모리 효율성이 높다.)\n",
    "\n",
    "## RDD vs. DF\n",
    "- any othe type vs structed data(구조적 데이터)\n",
    "- complex things(python) vs simple things(SQL)\n",
    "- How(어떻게 처리 할 것인가) vs What(무엇을 처리 할 것인가)\n",
    "- [ SparkContext + SQLContext ] vs [ SparkSession ]\n",
    "\n",
    "## DF Operation\n",
    "- DF standalone operations : transformation(select, where, filter, groupBy, having, join ...), action(show)\n",
    "- Spark SQL\n",
    "- UDF (User Define Function)\n",
    "\n",
    "* CPU와 메모리 향상을 위해 Spark SQL과 UDF를 사용. DF standalone operation은 최적화가 없다.\n",
    "* Catalyst query optimization(룰 기반, 비용기반 옵티마이저), Project tungsten(CPU, 메모리 관리 기술. Cache-awareness Computation. 병렬 처리를 위한 최신 컴파일러)를 통해 쿼리를 병렬으로 실행하고 생산성 향상\n",
    "* Cache-awareness Computation : https://younggyuchun.wordpress.com/2017/01/31/spark-%ec%84%b1%eb%8a%a5%ec%9d%98-%ed%95%b5%ec%8b%ac-project-tungsten-%ed%86%ba%ec%95%84%eb%b3%b4%ea%b8%b0/"
   ]
  },
  {
   "cell_type": "markdown",
   "id": "bb89da95",
   "metadata": {},
   "source": [
    "# DF(DataFrame)으로 작업하기"
   ]
  },
  {
   "cell_type": "code",
   "execution_count": 1,
   "id": "69c8bd11",
   "metadata": {},
   "outputs": [
    {
     "name": "stderr",
     "output_type": "stream",
     "text": [
      "23/11/28 09:35:38 WARN NativeCodeLoader: Unable to load native-hadoop library for your platform... using builtin-java classes where applicable\n",
      "Using Spark's default log4j profile: org/apache/spark/log4j-defaults.properties\n",
      "Setting default log level to \"WARN\".\n",
      "To adjust logging level use sc.setLogLevel(newLevel). For SparkR, use setLogLevel(newLevel).\n",
      "23/11/28 09:35:46 WARN Utils: Service 'SparkUI' could not bind on port 4040. Attempting port 4041.\n",
      "23/11/28 09:35:46 WARN Utils: Service 'SparkUI' could not bind on port 4041. Attempting port 4042.\n"
     ]
    },
    {
     "data": {
      "text/html": [
       "\n",
       "            <div>\n",
       "                <p><b>SparkSession - in-memory</b></p>\n",
       "                \n",
       "        <div>\n",
       "            <p><b>SparkContext</b></p>\n",
       "\n",
       "            <p><a href=\"http://b0ba62979a36:4042\">Spark UI</a></p>\n",
       "\n",
       "            <dl>\n",
       "              <dt>Version</dt>\n",
       "                <dd><code>v3.0.0</code></dd>\n",
       "              <dt>Master</dt>\n",
       "                <dd><code>local[*]</code></dd>\n",
       "              <dt>AppName</dt>\n",
       "                <dd><code>pyspark-shell</code></dd>\n",
       "            </dl>\n",
       "        </div>\n",
       "        \n",
       "            </div>\n",
       "        "
      ],
      "text/plain": [
       "<pyspark.sql.session.SparkSession at 0x40681bb0d0>"
      ]
     },
     "execution_count": 1,
     "metadata": {},
     "output_type": "execute_result"
    }
   ],
   "source": [
    "# pyspark 연결하기\n",
    "import pyspark\n",
    "from pyspark.sql import SparkSession\n",
    "\n",
    "spark = SparkSession.builder.master(\"local[*]\").getOrCreate()\n",
    "spark"
   ]
  },
  {
   "cell_type": "code",
   "execution_count": 2,
   "id": "1edefd2a",
   "metadata": {},
   "outputs": [
    {
     "name": "stderr",
     "output_type": "stream",
     "text": [
      "                                                                                \r"
     ]
    }
   ],
   "source": [
    "# Create/Load DF: 스파크는 옵션을 주어 자동적으로 파일을 스캔하고 데이터 셋의 스키마를 추론하게 할 수 있다.\n",
    "# data source: https://www.kaggle.com/thec03u5/fifa-18-demo-player-dataset\n",
    "df1 = spark.read.format(\"csv\").load(\"./data/CompleteDataset.csv\", inferSchema=True, header=True)"
   ]
  },
  {
   "cell_type": "code",
   "execution_count": 3,
   "id": "1cccd982",
   "metadata": {},
   "outputs": [
    {
     "name": "stderr",
     "output_type": "stream",
     "text": [
      "23/11/28 09:36:27 WARN package: Truncated the string representation of a plan since it was too large. This behavior can be adjusted by setting 'spark.sql.debug.maxToStringFields'.\n",
      "23/11/28 09:36:31 WARN CSVHeaderChecker: CSV header does not conform to the schema.\n",
      " Header: , Name, Age, Photo, Nationality, Flag, Overall, Potential, Club, Club Logo, Value, Wage, Special, Acceleration, Aggression, Agility, Balance, Ball control, Composure, Crossing, Curve, Dribbling, Finishing, Free kick accuracy, GK diving, GK handling, GK kicking, GK positioning, GK reflexes, Heading accuracy, Interceptions, Jumping, Long passing, Long shots, Marking, Penalties, Positioning, Reactions, Short passing, Shot power, Sliding tackle, Sprint speed, Stamina, Standing tackle, Strength, Vision, Volleys, CAM, CB, CDM, CF, CM, ID, LAM, LB, LCB, LCM, LDM, LF, LM, LS, LW, LWB, Preferred Positions, RAM, RB, RCB, RCM, RDM, RF, RM, RS, RW, RWB, ST\n",
      " Schema: _c0, Name, Age, Photo, Nationality, Flag, Overall, Potential, Club, Club Logo, Value, Wage, Special, Acceleration, Aggression, Agility, Balance, Ball control, Composure, Crossing, Curve, Dribbling, Finishing, Free kick accuracy, GK diving, GK handling, GK kicking, GK positioning, GK reflexes, Heading accuracy, Interceptions, Jumping, Long passing, Long shots, Marking, Penalties, Positioning, Reactions, Short passing, Shot power, Sliding tackle, Sprint speed, Stamina, Standing tackle, Strength, Vision, Volleys, CAM, CB, CDM, CF, CM, ID, LAM, LB, LCB, LCM, LDM, LF, LM, LS, LW, LWB, Preferred Positions, RAM, RB, RCB, RCM, RDM, RF, RM, RS, RW, RWB, ST\n",
      "Expected: _c0 but found: \n",
      "CSV file: file:///opt/workspace/data/CompleteDataset.csv\n",
      "                                                                                \r"
     ]
    },
    {
     "name": "stdout",
     "output_type": "stream",
     "text": [
      "+---+-----------------+---+--------------------+-----------+--------------------+-------+---------+-------------------+--------------------+------+-----+-------+------------+----------+-------+-------+------------+---------+--------+-----+---------+---------+------------------+---------+-----------+----------+--------------+-----------+----------------+-------------+-------+------------+----------+-------+---------+-----------+---------+-------------+----------+--------------+------------+-------+---------------+--------+------+-------+----+----+----+----+----+------+----+----+----+----+----+----+----+----+----+----+-------------------+----+----+----+----+----+----+----+----+----+----+----+\n",
      "|_c0|             Name|Age|               Photo|Nationality|                Flag|Overall|Potential|               Club|           Club Logo| Value| Wage|Special|Acceleration|Aggression|Agility|Balance|Ball control|Composure|Crossing|Curve|Dribbling|Finishing|Free kick accuracy|GK diving|GK handling|GK kicking|GK positioning|GK reflexes|Heading accuracy|Interceptions|Jumping|Long passing|Long shots|Marking|Penalties|Positioning|Reactions|Short passing|Shot power|Sliding tackle|Sprint speed|Stamina|Standing tackle|Strength|Vision|Volleys| CAM|  CB| CDM|  CF|  CM|    ID| LAM|  LB| LCB| LCM| LDM|  LF|  LM|  LS|  LW| LWB|Preferred Positions| RAM|  RB| RCB| RCM| RDM|  RF|  RM|  RS|  RW| RWB|  ST|\n",
      "+---+-----------------+---+--------------------+-----------+--------------------+-------+---------+-------------------+--------------------+------+-----+-------+------------+----------+-------+-------+------------+---------+--------+-----+---------+---------+------------------+---------+-----------+----------+--------------+-----------+----------------+-------------+-------+------------+----------+-------+---------+-----------+---------+-------------+----------+--------------+------------+-------+---------------+--------+------+-------+----+----+----+----+----+------+----+----+----+----+----+----+----+----+----+----+-------------------+----+----+----+----+----+----+----+----+----+----+----+\n",
      "|  0|Cristiano Ronaldo| 32|https://cdn.sofif...|   Portugal|https://cdn.sofif...|     94|       94|     Real Madrid CF|https://cdn.sofif...|€95.5M|€565K|   2228|          89|        63|     89|     63|          93|       95|      85|   81|       91|       94|                76|        7|         11|        15|            14|         11|              88|           29|     95|          77|        92|     22|       85|         95|       96|           83|        94|            23|          91|     92|             31|      80|    85|     88|89.0|53.0|62.0|91.0|82.0| 20801|89.0|61.0|53.0|82.0|62.0|91.0|89.0|92.0|91.0|66.0|             ST LW |89.0|61.0|53.0|82.0|62.0|91.0|89.0|92.0|91.0|66.0|92.0|\n",
      "|  1|         L. Messi| 30|https://cdn.sofif...|  Argentina|https://cdn.sofif...|     93|       93|       FC Barcelona|https://cdn.sofif...| €105M|€565K|   2154|          92|        48|     90|     95|          95|       96|      77|   89|       97|       95|                90|        6|         11|        15|            14|          8|              71|           22|     68|          87|        88|     13|       74|         93|       95|           88|        85|            26|          87|     73|             28|      59|    90|     85|92.0|45.0|59.0|92.0|84.0|158023|92.0|57.0|45.0|84.0|59.0|92.0|90.0|88.0|91.0|62.0|                RW |92.0|57.0|45.0|84.0|59.0|92.0|90.0|88.0|91.0|62.0|88.0|\n",
      "|  2|           Neymar| 25|https://cdn.sofif...|     Brazil|https://cdn.sofif...|     92|       94|Paris Saint-Germain|https://cdn.sofif...| €123M|€280K|   2100|          94|        56|     96|     82|          95|       92|      75|   81|       96|       89|                84|        9|          9|        15|            15|         11|              62|           36|     61|          75|        77|     21|       81|         90|       88|           81|        80|            33|          90|     78|             24|      53|    80|     83|88.0|46.0|59.0|88.0|79.0|190871|88.0|59.0|46.0|79.0|59.0|88.0|87.0|84.0|89.0|64.0|                LW |88.0|59.0|46.0|79.0|59.0|88.0|87.0|84.0|89.0|64.0|84.0|\n",
      "|  3|        L. Suárez| 30|https://cdn.sofif...|    Uruguay|https://cdn.sofif...|     92|       92|       FC Barcelona|https://cdn.sofif...|  €97M|€510K|   2291|          88|        78|     86|     60|          91|       83|      77|   86|       86|       94|                84|       27|         25|        31|            33|         37|              77|           41|     69|          64|        86|     30|       85|         92|       93|           83|        87|            38|          77|     89|             45|      80|    84|     88|87.0|58.0|65.0|88.0|80.0|176580|87.0|64.0|58.0|80.0|65.0|88.0|85.0|88.0|87.0|68.0|                ST |87.0|64.0|58.0|80.0|65.0|88.0|85.0|88.0|87.0|68.0|88.0|\n",
      "|  4|         M. Neuer| 31|https://cdn.sofif...|    Germany|https://cdn.sofif...|     92|       92|   FC Bayern Munich|https://cdn.sofif...|  €61M|€230K|   1493|          58|        29|     52|     35|          48|       70|      15|   14|       30|       13|                11|       91|         90|        95|            91|         89|              25|           30|     78|          59|        16|     10|       47|         12|       85|           55|        25|            11|          61|     44|             10|      83|    70|     11|null|null|null|null|null|167495|null|null|null|null|null|null|null|null|null|null|                GK |null|null|null|null|null|null|null|null|null|null|null|\n",
      "+---+-----------------+---+--------------------+-----------+--------------------+-------+---------+-------------------+--------------------+------+-----+-------+------------+----------+-------+-------+------------+---------+--------+-----+---------+---------+------------------+---------+-----------+----------+--------------+-----------+----------------+-------------+-------+------------+----------+-------+---------+-----------+---------+-------------+----------+--------------+------------+-------+---------------+--------+------+-------+----+----+----+----+----+------+----+----+----+----+----+----+----+----+----+----+-------------------+----+----+----+----+----+----+----+----+----+----+----+\n",
      "only showing top 5 rows\n",
      "\n"
     ]
    }
   ],
   "source": [
    "# 데이터 보여주기 (기본적으로 20개의 데이터만 보여준다. int 타입의 인자를 보여주는 행의 개수를 지정할 수 있다.)\n",
    "df1.show(5)"
   ]
  },
  {
   "cell_type": "code",
   "execution_count": 4,
   "id": "d99760d3",
   "metadata": {},
   "outputs": [
    {
     "data": {
      "text/plain": [
       "2"
      ]
     },
     "execution_count": 4,
     "metadata": {},
     "output_type": "execute_result"
    }
   ],
   "source": [
    "# How many partitions in DF?\n",
    "df1.rdd.getNumPartitions()"
   ]
  },
  {
   "cell_type": "code",
   "execution_count": 5,
   "id": "1cf5c97d",
   "metadata": {},
   "outputs": [
    {
     "name": "stdout",
     "output_type": "stream",
     "text": [
      "4\n",
      "2\n"
     ]
    }
   ],
   "source": [
    "# Increase/Decrease the partitions in DF (파티션 수 늘리거나 줄이기)\n",
    "df2 = df1.repartition(4) # 파티션 늘리기\n",
    "print(df2.rdd.getNumPartitions())\n",
    "\n",
    "df3 = df2.coalesce(2) # 파티션 줄이기\n",
    "print(df3.rdd.getNumPartitions())"
   ]
  },
  {
   "cell_type": "code",
   "execution_count": 6,
   "id": "a4a06b03",
   "metadata": {},
   "outputs": [
    {
     "name": "stderr",
     "output_type": "stream",
     "text": [
      "23/11/28 09:36:39 WARN CSVHeaderChecker: CSV header does not conform to the schema.\n",
      " Header: , Name, Age, Photo, Nationality, Flag, Overall, Potential, Club, Club Logo, Value, Wage, Special, Acceleration, Aggression, Agility, Balance, Ball control, Composure, Crossing, Curve, Dribbling, Finishing, Free kick accuracy, GK diving, GK handling, GK kicking, GK positioning, GK reflexes, Heading accuracy, Interceptions, Jumping, Long passing, Long shots, Marking, Penalties, Positioning, Reactions, Short passing, Shot power, Sliding tackle, Sprint speed, Stamina, Standing tackle, Strength, Vision, Volleys, CAM, CB, CDM, CF, CM, ID, LAM, LB, LCB, LCM, LDM, LF, LM, LS, LW, LWB, Preferred Positions, RAM, RB, RCB, RCM, RDM, RF, RM, RS, RW, RWB, ST\n",
      " Schema: _c0, Name, Age, Photo, Nationality, Flag, Overall, Potential, Club, Club Logo, Value, Wage, Special, Acceleration, Aggression, Agility, Balance, Ball control, Composure, Crossing, Curve, Dribbling, Finishing, Free kick accuracy, GK diving, GK handling, GK kicking, GK positioning, GK reflexes, Heading accuracy, Interceptions, Jumping, Long passing, Long shots, Marking, Penalties, Positioning, Reactions, Short passing, Shot power, Sliding tackle, Sprint speed, Stamina, Standing tackle, Strength, Vision, Volleys, CAM, CB, CDM, CF, CM, ID, LAM, LB, LCB, LCM, LDM, LF, LM, LS, LW, LWB, Preferred Positions, RAM, RB, RCB, RCM, RDM, RF, RM, RS, RW, RWB, ST\n",
      "Expected: _c0 but found: \n",
      "CSV file: file:///opt/workspace/data/CompleteDataset.csv\n",
      "                                                                                \r"
     ]
    },
    {
     "name": "stdout",
     "output_type": "stream",
     "text": [
      "+-----+------------+---+--------------------+-----------+--------------------+-------+---------+--------------------+--------------------+-----+----+-------+------------+----------+-------+-------+------------+---------+--------+-----+---------+---------+------------------+---------+-----------+----------+--------------+-----------+----------------+-------------+-------+------------+----------+-------+---------+-----------+---------+-------------+----------+--------------+------------+-------+---------------+--------+------+-------+----+----+----+----+----+------+----+----+----+----+----+----+----+----+----+----+-------------------+----+----+----+----+----+----+----+----+----+----+----+\n",
      "|RowID|        Name|Age|               Photo|Nationality|                Flag|Overall|Potential|                Club|           Club Logo|Value|Wage|Special|Acceleration|Aggression|Agility|Balance|Ball_Control|Composure|Crossing|Curve|Dribbling|Finishing|Free kick accuracy|GK diving|GK handling|GK kicking|GK positioning|GK reflexes|Heading accuracy|Interceptions|Jumping|Long passing|Long shots|Marking|Penalties|Positioning|Reactions|Short passing|Shot power|Sliding_Tackle|Sprint speed|Stamina|Standing tackle|Strength|Vision|Volleys| CAM|  CB| CDM|  CF|  CM|    ID| LAM|  LB| LCB| LCM| LDM|  LF|  LM|  LS|  LW| LWB|Preferred Positions| RAM|  RB| RCB| RCM| RDM|  RF|  RM|  RS|  RW| RWB|  ST|\n",
      "+-----+------------+---+--------------------+-----------+--------------------+-------+---------+--------------------+--------------------+-----+----+-------+------------+----------+-------+-------+------------+---------+--------+-----+---------+---------+------------------+---------+-----------+----------+--------------+-----------+----------------+-------------+-------+------------+----------+-------+---------+-----------+---------+-------------+----------+--------------+------------+-------+---------------+--------+------+-------+----+----+----+----+----+------+----+----+----+----+----+----+----+----+----+----+-------------------+----+----+----+----+----+----+----+----+----+----+----+\n",
      "|  677|  A. Samedov| 32|https://cdn.sofif...|     Russia|https://cdn.sofif...|     79|       79|      Spartak Moscow|https://cdn.sofif...| €10M|€74K|   2043|          81|        73|     78|     73|          78|       74|      80|   86|       74|       74|                79|        8|          8|         8|            11|         12|              59|           42|     64|          69|        75|     52|       81|         77|       78|           80|        73|            47|          80|     82|             52|      68|    80|     61|77.0|59.0|65.0|77.0|74.0|147621|77.0|65.0|59.0|74.0|65.0|77.0|78.0|74.0|78.0|67.0|                RM |77.0|65.0|59.0|74.0|65.0|77.0|78.0|74.0|78.0|67.0|74.0|\n",
      "|  226| A. Florenzi| 26|https://cdn.sofif...|      Italy|https://cdn.sofif...|     82|       84|                Roma|https://cdn.sofif...| €22M|€73K|   2265|          86|        79|     87|     84|          84|       79|      77|   73|       79|       76|                79|        9|          8|        10|            11|         10|              70|           77|     74|          75|        82|     73|       76|         82|       79|           82|        82|            78|          84|     90|             79|      68|    75|     87|80.0|76.0|79.0|80.0|80.0|203551|80.0|80.0|76.0|80.0|79.0|80.0|81.0|79.0|81.0|80.0|          CM RW RB |80.0|80.0|76.0|80.0|79.0|80.0|81.0|79.0|81.0|80.0|79.0|\n",
      "| 6642|Javi Jiménez| 21|https://cdn.sofif...|      Spain|https://cdn.sofif...|     69|       81|Gimnàstic de Tarr...|https://cdn.sofif...|€1.6M| €5K|   1758|          88|        72|     81|     71|          75|       70|      64|   63|       71|       32|                44|       12|          7|        10|            16|         12|              57|           61|     57|          63|        33|     65|       37|         69|       62|           68|        30|            63|          85|     72|             67|      63|    59|     29|65.0|65.0|66.0|63.0|65.0|228600|65.0|68.0|65.0|65.0|66.0|63.0|68.0|57.0|66.0|68.0|         LWB LM LB |65.0|68.0|65.0|65.0|66.0|63.0|68.0|57.0|66.0|68.0|57.0|\n",
      "+-----+------------+---+--------------------+-----------+--------------------+-------+---------+--------------------+--------------------+-----+----+-------+------------+----------+-------+-------+------------+---------+--------+-----+---------+---------+------------------+---------+-----------+----------+--------------+-----------+----------------+-------------+-------+------------+----------+-------+---------+-----------+---------+-------------+----------+--------------+------------+-------+---------------+--------+------+-------+----+----+----+----+----+------+----+----+----+----+----+----+----+----+----+----+-------------------+----+----+----+----+----+----+----+----+----+----+----+\n",
      "only showing top 3 rows\n",
      "\n"
     ]
    }
   ],
   "source": [
    "# Rename Columns and Amend NULLs (이름 변경하고 NULL 값 채우기)\n",
    "df2 = df2.withColumnRenamed(\"_c0\", \"RowID\") \\\n",
    "    .withColumnRenamed(\"Ball control\", \"Ball_Control\") \\\n",
    "    .withColumnRenamed(\"Sliding tackle\", \"Sliding_Tackle\")\n",
    "\n",
    "df2.na.fill({\"RAM\": 10, \"RB\": 1}).show(3)"
   ]
  },
  {
   "cell_type": "code",
   "execution_count": null,
   "id": "fc5f6276",
   "metadata": {},
   "outputs": [
    {
     "name": "stderr",
     "output_type": "stream",
     "text": [
      "[Stage 5:>                                                          (0 + 2) / 2]\r"
     ]
    }
   ],
   "source": [
    "# Transformation (SELECT): 원하는 컬럼만 추출된 데이터프레임을 반환. \n",
    "df2.select(\"Name\", \"Overall\").distinct().show() # distinct()를 통해 [Name, Overal]이 중복인 데이터 제거"
   ]
  },
  {
   "cell_type": "code",
   "execution_count": null,
   "id": "09f0876f",
   "metadata": {},
   "outputs": [],
   "source": [
    "# Transformation (FILTER): 지정한 열이 특정 조건을 만족하는 새로운 데이터프레임을 반환\n",
    "df2.filter(df[\"Overall\"] > 70).show()"
   ]
  },
  {
   "cell_type": "code",
   "execution_count": null,
   "id": "ff9dc322",
   "metadata": {},
   "outputs": [],
   "source": [
    "# SELCT로 필요한 열만 추출 후 FILTER로 데이터에 대한 조건식을 만족하는 데이터만 추출\n",
    "df2.select(\"Overall\", \"Name\", \"Age\").filter(df2[\"Overall\"] > 70).show()"
   ]
  },
  {
   "cell_type": "code",
   "execution_count": null,
   "id": "065a30f7",
   "metadata": {},
   "outputs": [],
   "source": [
    "# FILTER 대신 WHERE 으로 대체 가능\n",
    "df2.select(\"Overall\", \"Name\", \"Age\").where(df2[\"Overall\"] > 70).show()"
   ]
  },
  {
   "cell_type": "code",
   "execution_count": null,
   "id": "4af72950",
   "metadata": {},
   "outputs": [],
   "source": [
    "# 여러 Transformation을 같이 써서 응용하기\n",
    "df2.where[df2[\"Overall\"] > 70] \\ # 조건식 적용\n",
    "    .groupBy(\"Age\") \\ # groupBy (집계 함수의 기준 컬럼)\n",
    "    .count() \\ # count (집계 함수)\n",
    "    .sort(\"Age\") \\ # sort (정렬 함수)\n",
    "    .show() # action (출력 함수)"
   ]
  }
 ],
 "metadata": {
  "kernelspec": {
   "display_name": "Python 3 (ipykernel)",
   "language": "python",
   "name": "python3"
  },
  "language_info": {
   "codemirror_mode": {
    "name": "ipython",
    "version": 3
   },
   "file_extension": ".py",
   "mimetype": "text/x-python",
   "name": "python",
   "nbconvert_exporter": "python",
   "pygments_lexer": "ipython3",
   "version": "3.9.2"
  }
 },
 "nbformat": 4,
 "nbformat_minor": 5
}
